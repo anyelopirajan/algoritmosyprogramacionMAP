{
  "cells": [
    {
      "cell_type": "markdown",
      "metadata": {
        "id": "QZ6XziVD76Jw"
      },
      "source": [
        "<h1 align=\"center\">Taller - Instrucciones repetitivas en Python</h1>\n",
        "\n",
        "Desarrolle la solucion a los siguientes problemas en Python, usando funciones y el programa correspondiente\n",
        "\n",
        "---"
      ]
    },
    {
      "cell_type": "markdown",
      "metadata": {
        "id": "uJJp2xk076J1"
      },
      "source": [
        "## Ejercicio 01\n",
        "\n",
        "Una librería ofrece dos tipos de descuentos ante la compra de un libro. Si el libro tiene un precio inferior a cien mil pesos, el descuento es del 12% del precio; pero en cualquier otro caso, el descuento asciende a un 18%.\n",
        "\n",
        "* Escriba una función que halle el precio neto de un libro (precio menos descuento) de un libro, dado el precio del libro.\n",
        "* Ahora, escriba un programa que permita leer el precio de varios libros (finalizar cuando el precio es cero o negativo) y mostrar para cada libro, el precio neto (usando la función desarrollada anteriormente)"
      ]
    },
    {
      "cell_type": "code",
      "execution_count": null,
      "metadata": {
        "id": "58mamZV176J2"
      },
      "outputs": [],
      "source": [
        "#ejercicio funciones1\n",
        "#funciones\n",
        "#definicion de la funcion\n",
        "def hallar_precio_neto(precio_libro:float)->float:\n",
        "    if(precio_libro<100000):\n",
        "        precio_neto=precio_libro-(precio_libro*0.12)\n",
        "    else:\n",
        "        precio_neto=precio_libro-(precio_libro*0.18)\n",
        "    return precio_neto\n",
        "#programa principal\n",
        "while True :\n",
        "    precio_libro=float(input(\"ingrese el precio del libro:\"))\n",
        "    precio_neto=hallar_precio_neto(precio_libro)\n",
        "    if(precio_libro<=0):\n",
        "        break\n",
        "    print(\"el precio neto es:\",precio_neto)"
      ]
    },
    {
      "cell_type": "markdown",
      "metadata": {
        "id": "jF4Qm9FE76J3"
      },
      "source": [
        "---"
      ]
    },
    {
      "cell_type": "markdown",
      "metadata": {
        "id": "weyR_q0d76J4"
      },
      "source": [
        "## Ejercicio 02\n",
        "\n",
        "Un vendedor recibe una comisión por el volumen de ventas que realice. Las reglas para asignarle la comisión al vendedor son las siguientes:\n",
        "\n",
        "Ventas | Comisión\n",
        "---|---\n",
        "Inferior a 50 mil pesos | 7% de las ventas\n",
        "Entre 50 mil y 100 mil pesos | 9% de las ventas más 5 mil pesos\n",
        "Entre 100 mil y 200 mil pesos | 11% de las ventas más 10 mil pesos\n",
        "Entre 200 mil y 500 mil pesos | 13% de las ventas más 20 mil pesos\n",
        "Más de 500 mil pesos | 15% de las ventas más 40 mil pesos\n",
        "\n",
        "* Escriba una función que recibe el valor de las ventas de un vendedor y que retorne la comisión\n",
        "* Escriba un programa que lea el valor de ventas de varios vendedores de la empresa (finalizar cuando las ventas sean negativas), y usando la función anterior, calcule la comisión y la imprima por pantalla."
      ]
    },
    {
      "cell_type": "code",
      "execution_count": null,
      "metadata": {
        "id": "kMitVJVW76J4",
        "colab": {
          "base_uri": "https://localhost:8080/"
        },
        "outputId": "b1e7dacd-f119-46e4-871d-f50d00340f47"
      },
      "outputs": [
        {
          "name": "stdout",
          "output_type": "stream",
          "text": [
            "ingrese el valor de la venta:40000\n",
            "el valor de la venta es: 42800.0\n",
            "ingrese el valor de la venta:60000\n",
            "el valor de la venta es: 70400.0\n",
            "ingrese el valor de la venta:600000\n",
            "el valor de la venta es: 730000.0\n",
            "ingrese el valor de la venta:-1\n"
          ]
        }
      ],
      "source": [
        "#ejercicio funciones1\n",
        "#funciones\n",
        "#definicion de la funcion\n",
        "def hallar_comision(valor_ventas:float)->float:\n",
        "    if(valor_ventas<50000):\n",
        "        valor_ventas=valor_ventas+(valor_ventas*0.07)\n",
        "    if(valor_ventas>=50000 and valor_ventas<100000):\n",
        "        valor_ventas=valor_ventas+(valor_ventas*0.09)+5000\n",
        "    if(valor_ventas>=100000 and valor_ventas<200000):\n",
        "        valor_ventas=valor_ventas+(valor_ventas*0.11)+10000\n",
        "    if(valor_ventas>=200000 and valor_ventas<500000):\n",
        "        valor_ventas=valor_ventas+(valor_ventas*0.13)+20000\n",
        "    if(valor_ventas>500000):\n",
        "        valor_ventas=valor_ventas+(valor_ventas*0.15)+40000\n",
        "\n",
        "    return valor_ventas\n",
        "#programa principal\n",
        "while True :\n",
        "    valor_ventas=float(input(\"ingrese el valor de la venta:\"))\n",
        "    comision=hallar_comision(valor_ventas)\n",
        "    if(valor_ventas<0):\n",
        "        break\n",
        "    print(\"el valor de la venta es:\",comision)\n"
      ]
    },
    {
      "cell_type": "markdown",
      "metadata": {
        "id": "YWyFJrR876J4"
      },
      "source": [
        "---\n"
      ]
    },
    {
      "cell_type": "markdown",
      "metadata": {
        "id": "2IHUrLVh76J5"
      },
      "source": [
        "## Ejercicio 03\n",
        "\n",
        "Una empresa ofrece a sus empleados un salario mensual fijo, y un porcertaje de las ventas como una comisión adicional a ese salario mensual. Esta comisión se calcula de la siguiente manera: si las ventas de un empleado excede los 50 mil pesoso, la comisión será de un 12% de las ventas que están por encima de los 50 mil pesos, en otro caso no habrá comisión.\n",
        "\n",
        "* Primero, construya una función en la que dado las ventas que hizo el empleado, determine cuánto es la comisión\n",
        "* Ahora hay que hacer un programa que calcule y muestre los salarios y comisiones de todos los empleados de la empresa. Para cada empleado hay que preguntarle al usuario, el salario mensual y las ventas realizadas, y mostrar la comisión por las ventas (usando la función anterior) y el salario neto (salario más comisión). Como no sabemos cuántos empleados hay, después de mostrar esta información, debemos preguntarle al usuario si desea seguir o no."
      ]
    },
    {
      "cell_type": "code",
      "execution_count": 19,
      "metadata": {
        "id": "aTuMvKmw76J5",
        "colab": {
          "base_uri": "https://localhost:8080/"
        },
        "outputId": "e6aa5786-641e-4f90-81d7-4c82522f0924"
      },
      "outputs": [
        {
          "name": "stdout",
          "output_type": "stream",
          "text": [
            " es usted un empleado si/nosi\n",
            "ingrese el valor de su salario1000000\n",
            "ingrese el valor de sus ventas60000\n",
            "su salario es-> 1000000.0\n",
            "su salario mas la comision es-> 1067200.0 su comision es 67200.0\n",
            "<function salario_mensual at 0x7a19de2b5bc0>\n",
            "el numero de empleados es:  1\n",
            "desdea continuar si/nono\n"
          ]
        }
      ],
      "source": [
        "# Definición de la función\n",
        "nempleado=0\n",
        "def salario_mensual(ventas:float,salario:float)->(float,float):\n",
        "  if ventas>50000:\n",
        "    print(\"su salario es->\",salario)\n",
        "    comision=ventas+(ventas*0.12)\n",
        "    s=salario+comision\n",
        "    print(\"su salario mas la comision es->\",s,\"su comision es\",comision)\n",
        "  elif ventas<50000:\n",
        "    print(\"su salario es->\",salario)\n",
        "    comision=0\n",
        "    s=salario+comision\n",
        "    print(\"su salario mas la comision es->\",s,\"su comision es\",comision)\n",
        "  return salario,comision\n",
        "  return s\n",
        "\n",
        "\n",
        "\n",
        "# Programa principal\n",
        "\n",
        "while True:\n",
        "\n",
        "\n",
        "  empleado=str(input(\" es usted un empleado si/no\"))\n",
        "  if empleado==\"si\":\n",
        "    nempleado=nempleado+1\n",
        "    salario=float(input(\"ingrese el valor de su salario\"))\n",
        "    ventas=float(input(\"ingrese el valor de sus ventas\"))\n",
        "    comision=salario_mensual(ventas,salario)\n",
        "    s=salario_mensual\n",
        "    print(salario_mensual)\n",
        "    print(\"el numero de empleados es: \",nempleado)\n",
        "    continuar=str(input(\"desdea continuar si/no\"))\n",
        "    if(continuar==\"si\"):\n",
        "      continue\n",
        "    else:\n",
        "      break\n",
        "\n",
        "\n",
        "\n",
        "\n",
        "\n"
      ]
    },
    {
      "cell_type": "markdown",
      "metadata": {
        "id": "6M93ZEZh76J5"
      },
      "source": [
        "---"
      ]
    },
    {
      "cell_type": "markdown",
      "metadata": {
        "id": "ge6TBY0P76J6"
      },
      "source": [
        "## Ejercicio 04\n",
        "\n",
        "En una empresa se le paga a los trabajadores al final de cada semana de acuerdo a las reglas dadas a continuación:\n",
        "\n",
        "* Si trabajas 35 horas o menos, se le paga un valor de 15 mil pesos la hora;\n",
        "* Si trabaja más de 35 horas pero menos de 60, el valor de la hora es de 15 mil por las primeras 35 horas y de 18 mil por cada hora trabajada por encima de las 35\n",
        "* Si trabaja más de 60 horas, las primeras 35 se pagan a 15 mil, las siguiente 25 horas a 18 mil cada una y las horas horas trabajadas por encima de las 60 horas, se le paga a 25 mil pesos cada una.\n",
        "\n",
        "Vamos a buscar imprimir el salario semanal de cada uno de los empleados de la empresa. Para ello:\n",
        "\n",
        "* Escriba una función que reciba el número de horas trabajadas por un empleado y retorne el salario\n",
        "* Un programa que le pregunte al usuario el número de empleados que trabajan en la empresa, y para cada uno de esos, pregunte el número de horas trabajadas en la semana, y usando la función anterior, imprima el salario mensual de ese empleado."
      ]
    },
    {
      "cell_type": "code",
      "execution_count": 39,
      "metadata": {
        "id": "o8NultX076J6",
        "colab": {
          "base_uri": "https://localhost:8080/"
        },
        "outputId": "87f2deee-b407-4d29-bb27-86f10e6a685a"
      },
      "outputs": [
        {
          "output_type": "stream",
          "name": "stdout",
          "text": [
            "Ingrese el numero de empleados->2\n",
            "trabajador # 1\n",
            "ingrese la cantidad de horas trabajadas->50\n",
            "el valor de sus horas trabajadas es-> 795000\n",
            "trabajador # 2\n",
            "ingrese la cantidad de horas trabajadas->1000\n",
            "el valor de sus horas trabajadas es-> 24475000\n"
          ]
        }
      ],
      "source": [
        "# Definición de la función\n",
        "\n",
        "def empresa(horas:int)->(int):\n",
        "  if(horas<=35):\n",
        "    salario=horas*15000\n",
        "  elif(horas<=60):\n",
        "      salario=35*15000+(horas-35)*18000\n",
        "  else:\n",
        "    salario=35*15000+25*18000+(horas-60)*25000\n",
        "  print(\"el valor de sus horas trabajadas es->\",salario)\n",
        "  return salario\n",
        "# Programa principal\n",
        "e=int(input(\"Ingrese el numero de empleados->\"))\n",
        "c=1\n",
        "while c <=e:\n",
        "    print(\"trabajador #\",c)\n",
        "    horas=int(input(\"ingrese la cantidad de horas trabajadas->\"))\n",
        "    salario = empresa(horas)\n",
        "    c=c+1\n",
        "\n",
        "\n",
        "\n"
      ]
    }
  ],
  "metadata": {
    "colab": {
      "provenance": []
    },
    "kernelspec": {
      "display_name": "Python 3",
      "language": "python",
      "name": "python3"
    },
    "language_info": {
      "codemirror_mode": {
        "name": "ipython",
        "version": 3
      },
      "file_extension": ".py",
      "mimetype": "text/x-python",
      "name": "python",
      "nbconvert_exporter": "python",
      "pygments_lexer": "ipython3",
      "version": "3.7.7"
    }
  },
  "nbformat": 4,
  "nbformat_minor": 0
}
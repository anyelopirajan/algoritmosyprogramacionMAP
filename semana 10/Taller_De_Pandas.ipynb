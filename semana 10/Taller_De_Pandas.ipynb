{
  "cells": [
    {
      "cell_type": "markdown",
      "metadata": {
        "id": "qenHNw6vMlK6"
      },
      "source": [
        "#Taller Pandas: Operaciones con Pandas\n",
        "\n",
        "<img src=\"https://upload.wikimedia.org/wikipedia/commons/thumb/e/ed/Pandas_logo.svg/1200px-Pandas_logo.svg.png\" width=\"50%\" style=\"text-align:center\">\n",
        "\n",
        "---"
      ]
    },
    {
      "cell_type": "code",
      "execution_count": null,
      "metadata": {
        "id": "WM2P_37yNGPr"
      },
      "outputs": [],
      "source": [
        "# Vamos a crear el DataFrame a partir de los datos de los municipios de Colombia\n",
        "import pandas as pd\n",
        "import math\n",
        "\n",
        "muns = pd.read_csv(\"https://raw.githubusercontent.com/BrayanTorres2/Algoritmos-y-programacion/refs/heads/main/Data/municipios.csv\", index_col=0)\n",
        "muns.info()"
      ]
    },
    {
      "cell_type": "code",
      "execution_count": null,
      "metadata": {
        "id": "e5cxWltYQmPX"
      },
      "outputs": [],
      "source": [
        "# Presentar la información de los primeros 5 municipios del dataframe\n",
        "muns.head(5)"
      ]
    },
    {
      "cell_type": "code",
      "execution_count": null,
      "metadata": {
        "id": "00f31GRCRBJL"
      },
      "outputs": [],
      "source": [
        "# Presente la estadística descriptiva de la información del dataframe\n",
        "muns.describe()"
      ]
    },
    {
      "cell_type": "code",
      "execution_count": null,
      "metadata": {
        "id": "r2puX6jFOFph"
      },
      "outputs": [],
      "source": [
        "# Hallar la cantidad de municipios en el DataFrame\n",
        "num_municipios = len(muns)\n",
        "\n",
        "assert num_municipios == 1122\n",
        "\n",
        "print(\"Cantidad de municipios =\", num_municipios)"
      ]
    },
    {
      "cell_type": "code",
      "execution_count": null,
      "metadata": {
        "id": "IFmPyM2eOOsl"
      },
      "outputs": [],
      "source": [
        "# Determinar el promedio de la población rural de todos los municipios del país\n",
        "prom = muns.poblacionRural.mean()\n",
        "\n",
        "assert math.isclose(10198.901961, prom, rel_tol=1e-6)\n",
        "print(\"Prueba superada 💪🏽\")"
      ]
    },
    {
      "cell_type": "code",
      "execution_count": null,
      "metadata": {
        "id": "0KypXfWWPq3Y"
      },
      "outputs": [],
      "source": [
        "# Halle la cantidad total de municipio del departamento de Amazonas\n",
        "n = len(muns[(muns.departamento==\"Amazonas\")])\n",
        "\n",
        "print(f\"Hay {n} municipios en Amazonas\")\n",
        "assert n == 11\n",
        "print(\"Prueba superada 💪🏽\")"
      ]
    },
    {
      "cell_type": "code",
      "execution_count": null,
      "metadata": {
        "id": "zYt_N7cVQQs7"
      },
      "outputs": [],
      "source": [
        "# Escriba una función que reciba el nombre de un departamento y que retorne cuántos municipios hay\n",
        "# en el departamento con ese nombre.\n",
        "def municipios_departamento(muns: pd.DataFrame, nombre: str) -> int:\n",
        "    n = input()\n",
        "    if(n==\"Cundinamarca\"):\n",
        "        print(len(muns[(muns.departamento==\"Cundinamarca\")]))\n",
        "    if(n==\"Boyaca\"):\n",
        "        print(len(muns[(muns.departamento==\"Boyaca\")]))\n",
        "    if(n==\"Vichada\"):\n",
        "        print(len(muns[(muns.departamento==\"Vichada\")]))\n",
        "    return n\n",
        "\n",
        "# Pruebas de la función anterior\n",
        "assert municipios_departamento(muns, \"Cundinamarca\") == 117\n",
        "assert municipios_departamento(muns, \"Boyacá\") == 123\n",
        "assert municipios_departamento(muns, \"Vichada\") == 4\n",
        "print(\"Prueba superada 💪🏽\")"
      ]
    },
    {
      "cell_type": "code",
      "execution_count": null,
      "metadata": {
        "id": "HtjzXj3uRE_G"
      },
      "outputs": [],
      "source": [
        "# Escriba una expresión que permita encontrar los nombres de los municipios que tienen\n",
        "# menos de 500 habitantes en la población rural\n",
        "m = muns[(muns.poblacionRural<500)]\n",
        "print(m)\n",
        "\n",
        "# Prueba\n",
        "assert m.sort_values().to_list() == ['La Guadalupe', 'Santa Lucía', 'Soplaviento', 'Suan']\n",
        "print(\"Prueba superada 💪🏽\")"
      ]
    },
    {
      "cell_type": "code",
      "execution_count": null,
      "metadata": {
        "id": "zjcXOdWyA8-5"
      },
      "outputs": [],
      "source": [
        "# Cual es la suma total de la población urbana de todos los municipios\n",
        "pob_urb = sum(muns.poblacionUrbana)\n",
        "\n",
        "# Prueba\n",
        "assert pob_urb == 37_740_751\n",
        "print(\"Prueba superada 💪🏽\")"
      ]
    },
    {
      "cell_type": "code",
      "execution_count": null,
      "metadata": {
        "id": "d6Pt4uzlCqBT"
      },
      "outputs": [],
      "source": [
        "# Hallar la suma de la población urbana de los municipios de los departamentos\n",
        "# del eje cafetero: Caldas, Quindio o Risaralda\n",
        "pob_eje_cafetero = sum\n",
        "print(pob_eje_cafetero)\n",
        "# Prueba\n",
        "assert pob_eje_cafetero == 1_471_055\n",
        "print(\"Prueba superada 💪🏽\")"
      ]
    },
    {
      "cell_type": "code",
      "execution_count": null,
      "metadata": {
        "id": "8hsf6HZ-THGp"
      },
      "outputs": [],
      "source": [
        "# Encontrar el nombre del municipio que es la capital (esCapital == 1) del departamento de Casanare\n",
        "capital=muns[(muns.departamento==\"Casanare\")& muns.esCapital==1]\n",
        "print(capital['nombre'])"
      ]
    },
    {
      "cell_type": "code",
      "execution_count": null,
      "metadata": {
        "id": "8HR_nr40EtHe"
      },
      "outputs": [],
      "source": [
        "# Encontrar cuantos municipios tienen una población urbana inferior al promedio\n",
        "# de la población urbama de todo el pais\n",
        "prom_poblacion_urbana = muns.poblacionUrbana.mean()\n",
        "cant_muns_pobl_inf_prom = len(muns[(muns.poblacionUrbana<prom_poblacion_urbana)])\n",
        "print(cant_muns_pobl_inf_prom)\n",
        "\n",
        "# Prueba\n",
        "assert cant_muns_pobl_inf_prom == 998\n",
        "print(\"Prueba superada 💪🏽\")"
      ]
    },
    {
      "cell_type": "code",
      "execution_count": null,
      "metadata": {
        "id": "-Wz3v-gs7FFn"
      },
      "outputs": [],
      "source": [
        "# Presentar el nombre y problación urbana de los municipios cuya población urbana esté entre el millón y los tres millones\n",
        "# de habitantes.\n",
        "a=muns[(muns.poblacionUrbana>1_000_000)&(muns.poblacionUrbana<3_000_000)]\n",
        "print(a[['nombre','poblacionUrbana']])"
      ]
    },
    {
      "cell_type": "code",
      "execution_count": null,
      "metadata": {
        "id": "ja3JFZ2NV3uR"
      },
      "outputs": [],
      "source": [
        "# Presentar toda la información de aquellos municipios donde la población rural supere a la población urbana\n",
        "a=muns[(muns.poblacionRural>muns.poblacionUrbana)]\n",
        "print(a)"
      ]
    },
    {
      "cell_type": "code",
      "execution_count": null,
      "metadata": {
        "id": "VlKO9x3a7GYe"
      },
      "outputs": [],
      "source": [
        "# Cuantas capitales hay en el dataframe\n",
        "a=len(muns[(muns.esCapital==1)])\n",
        "print(a)"
      ]
    },
    {
      "cell_type": "code",
      "execution_count": null,
      "metadata": {
        "id": "6J_GRk6S7_ve"
      },
      "outputs": [],
      "source": [
        "# Determinar cuántos capitales tiene una población inferior a los 100 mil habitantes\n",
        "a=len(muns[(muns.escapital==1)&(muns.poblacionUrbana<100_000)&(muns.poblacionRural<100_000)])"
      ]
    }
  ],
  "metadata": {
    "colab": {
      "provenance": []
    },
    "kernelspec": {
      "display_name": "Python 3",
      "name": "python3"
    },
    "language_info": {
      "codemirror_mode": {
        "name": "ipython",
        "version": 3
      },
      "file_extension": ".py",
      "mimetype": "text/x-python",
      "name": "python",
      "nbconvert_exporter": "python",
      "pygments_lexer": "ipython3",
      "version": "3.13.2"
    }
  },
  "nbformat": 4,
  "nbformat_minor": 0
}
